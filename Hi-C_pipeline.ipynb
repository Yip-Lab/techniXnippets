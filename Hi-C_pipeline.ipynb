{
  "cells": [
    {
      "cell_type": "markdown",
      "source": [
        "# Hi-C pipeline\n",
        "*Author: Qin CAO*\n",
        "## Raw .fastq files to Hi-C contact matrices\n",
        "### *[Juicer] (https://github.com/aidenlab/juicer/wiki)*\n",
        "\n",
        "Juicer is a very powerful tool that deals with Hi-C data. It can map .fastq files to .hic files, which is a binary format efficiently stores contact matrices at multiple resolutions. \n",
        "#### [Installation of Juicer] (https://github.com/aidenlab/juicer/wiki/Installation)\n",
        "#### Configuration of juicer.sh file\n",
        "We need to modify the configurations in juicer.sh file based on our own data. Some configurations can also be modified by passing the parameters when running juicer.sh. The key points are listed below. \n"
      ],
      "metadata": {}
    },
    {
      "cell_type": "code",
      "source": [
        "read1str=\"_R1\" #suffix of paired read\n",
        "read2str=\"_R2\" #suffix of paired read\n",
        "site=\"MboI\" #enzyme site\n",
        "genomeID=\"hg19\" #genome ID\n",
        "ligation=\"GATCGATC\" #enzyme site ligation junction sequence"
      ],
      "outputs": [],
      "execution_count": null,
      "metadata": {
        "collapsed": false,
        "outputHidden": false,
        "inputHidden": false
      }
    },
    {
      "cell_type": "markdown",
      "source": [
        "#### An example of processing raw .fastq files to .hic files"
      ],
      "metadata": {}
    },
    {
      "cell_type": "code",
      "source": [
        "./juicer.sh -g mm10 -s MboI \n",
        "#In this example, the reference genome is mm10 and the enzyme is MboI. "
      ],
      "outputs": [],
      "execution_count": null,
      "metadata": {
        "collapsed": false,
        "outputHidden": false,
        "inputHidden": false
      }
    },
    {
      "cell_type": "markdown",
      "source": [
        "#### QCs and basic statistics\n",
        "Juicer provides QCs and basic statistics. We summarize some key definitions/terms here. \n",
        "* Sequenced Read Pairs=Normal Paired+Chimeric Paired+Chimeric Ambiguous+Unmapped\n",
        "* Alignable=Normal Paired+Chimeric Paired\n",
        "* Alignable=Unique Reads+PCR Duplicates+Optical Duplicates\n",
        "* Unique Reads=Intra-fragment Reads+Below MAPQ Threshold+Hi-C Contacts\n",
        "* Hi-C Contacts=Inter-chromosomal+Intra-chromosomal\n",
        "\n",
        "### *[HiC-Pro](https://github.com/nservant/HiC-Pro)(alternative tool)*\n",
        "We would suggest HiC-Pro as an alternative tool, which is excellent in summarizing QCs. Juicer also provides QCs but sometimes HiC-Pro is more informative. However, HiC-Pro does not provide .hic files directly, which limits its convenience in standard downstream analyses. "
      ],
      "metadata": {}
    },
    {
      "cell_type": "markdown",
      "source": [
        "## Extract interactions from .hic files\n",
        "### *[Juicer dump](https://github.com/aidenlab/juicer/wiki/Data-Extraction)*\n",
        "The parameters of juicer dump include the kind of matrix, normalization method, chromosome coordinates and bin resolution.\n",
        "#### A usage example of dump"
      ],
      "metadata": {}
    },
    {
      "cell_type": "code",
      "source": [
        "java -jar $juicer_tools dump observed KR inter.hic 4 4 BP 50000 4.txt\n",
        "#This will dump the observed intrachromosomal matrix of chromosome 4 with KR normalization at 50Kb resolution to the file 4.txt."
      ],
      "outputs": [],
      "execution_count": null,
      "metadata": {
        "collapsed": false,
        "outputHidden": false,
        "inputHidden": false
      }
    },
    {
      "cell_type": "markdown",
      "source": [
        "#### The example output of the example above"
      ],
      "metadata": {}
    },
    {
      "cell_type": "code",
      "source": [
        "#bin1_start bin2_start KR_normalized_reads\n",
        "3050000 3050000 689.73926\n",
        "3050000 3100000 39.28981\n",
        "3100000 3100000 558.02704\n",
        "3050000 3150000 20.03267\n",
        "3100000 3150000 71.13022\n",
        "3150000 3150000 470.02182\n",
        "3050000 3200000 10.919163\n",
        "3100000 3200000 27.693422\n",
        "3150000 3200000 47.443287\n",
        "3200000 3200000 457.82416"
      ],
      "outputs": [],
      "execution_count": null,
      "metadata": {
        "collapsed": false,
        "outputHidden": false,
        "inputHidden": false
      }
    },
    {
      "cell_type": "markdown",
      "source": [
        "## Call A/B compartment\n",
        "### *[Juicer eigenvector](https://github.com/aidenlab/juicer/wiki/Eigenvector)*\n",
        "It computes the first principal component(PC1) of the Hi-C contact matrix, in which the sign indicates the compartment(e.g. + indicates compartment A and - indicates compartment B or vise versa). A note here is that it is hard to compute eigenvectors for a very sparse matrix. Typically it can only handle relatively lower resolutions(e.g. 500kb), which is also consistent with the definition of A/B compartments. \n",
        "#### A usage example of eigenvector"
      ],
      "metadata": {}
    },
    {
      "cell_type": "code",
      "source": [
        "java -jar juicer_tools.jar eigenvector VC HIC001.hic X BP 5000 eigen.txt\n",
        "#This will calculate the eigenvector of chromosome X with VC normalization at 5Kb resolution and print to eigen.txt."
      ],
      "outputs": [],
      "execution_count": null,
      "metadata": {
        "collapsed": false,
        "outputHidden": false,
        "inputHidden": false
      }
    },
    {
      "cell_type": "markdown",
      "source": [
        "#### An example output"
      ],
      "metadata": {}
    },
    {
      "cell_type": "code",
      "source": [
        "#Each line is a bin with PC1 value\n",
        "#chr    bin_start bin_end PC1 \n",
        "chr10   3500000 4000000 -0.00357968\n",
        "chr10   4000000 4500000 -0.0702789\n",
        "chr10   4500000 5000000 -0.00730329\n",
        "chr10   5000000 5500000 -0.00533751\n",
        "chr10   5500000 6000000 -0.00196586\n",
        "chr10   6000000 6500000 0.0402201"
      ],
      "outputs": [],
      "execution_count": null,
      "metadata": {
        "collapsed": false,
        "outputHidden": false,
        "inputHidden": false
      }
    },
    {
      "cell_type": "markdown",
      "source": [
        "## Call TAD\n",
        "### *[Hi-C Domain Caller](http://chromosome.sdsc.edu/mouse/hi-c/download.html)*\n",
        "We perfer Hi-C Domain Caller to *[Juicer arrowhead](https://github.com/aidenlab/juicer/wiki/Arrowhead)* for two reasons: 1) arrowhead is designed for finding contact domains rather than TADs specifically; 2) it is too hard to set reasonable thresholds in arrowhead for finding TADs.  "
      ],
      "metadata": {}
    },
    {
      "cell_type": "markdown",
      "source": [
        "#### An example output"
      ],
      "metadata": {}
    },
    {
      "cell_type": "code",
      "source": [
        "#Each line is a TAD\n",
        "#chr    TAD_start       TAD_end\n",
        "chr10   11350000        13000000 \n",
        "chr10   13000000        14400000 \n",
        "chr10   14750000        17750000 \n",
        "chr10   18900000        20350000 \n",
        "chr10   20350000        20950000"
      ],
      "outputs": [],
      "execution_count": null,
      "metadata": {
        "collapsed": false,
        "outputHidden": false,
        "inputHidden": false
      }
    },
    {
      "cell_type": "markdown",
      "source": [
        "## Call significant Hi-C interactions\n",
        "### *[Fit-Hi-C](https://bioconductor.org/packages/release/bioc/vignettes/FitHiC/inst/doc/fithic.html)*\n",
        "A q-value will be assigned to each Hi-C interaction by Fit-Hi-C to indicate the interaction significance. Fit-Hi-C is actively updated in [R version](https://bioconductor.org/packages/release/bioc/vignettes/FitHiC/inst/doc/fithic.html) but not [python version](https://github.com/ay-lab/fithic). So we recommend to use R version. \n",
        "#### An example output"
      ],
      "metadata": {}
    },
    {
      "cell_type": "code",
      "source": [
        "#chr_1  bin1_mid        chr_2   bin2_mid        contact         pvalue  qvalue\n",
        "chr1    fragmentMid1    chr2    fragmentMid2    contactCount    p_value q_value\n",
        "chr2    25000   chr2    75000   4245    0.0140615961205994      0.132152059562782"
      ],
      "outputs": [],
      "execution_count": null,
      "metadata": {
        "collapsed": false,
        "outputHidden": false,
        "inputHidden": false
      }
    },
    {
      "cell_type": "markdown",
      "source": [
        "## Data visualization\n",
        "### *[Juicebox](https://github.com/aidenlab/Juicebox)*\n",
        "Juicebox can load .hic files and display Hi-C contact matrices. The web version of Juicebox is [here](https://www.aidenlab.org/juicebox/). \n",
        "#### An example image\n",
        "<!--![Image juicebox](https://lh3.googleusercontent.com/-GbPE2TrUzfk/V8h_w_wHHzI/AAAAAAAAdQk/0XEwOE-Z0mQs7YV4MxG-RfO5hgzt-aGMQCLcB/s1600/neva%2Bemail.jpg)]-->\n",
        "<img src=\"https://lh3.googleusercontent.com/-GbPE2TrUzfk/V8h_w_wHHzI/AAAAAAAAdQk/0XEwOE-Z0mQs7YV4MxG-RfO5hgzt-aGMQCLcB/s1600/neva%2Bemail.jpg\" width=\"800\" height=\"400\" />"
      ],
      "metadata": {}
    },
    {
      "cell_type": "markdown",
      "source": [
        "### *[UCSC session](https://genome.ucsc.edu/cgi-bin/hgSession?hgS_doMainPage=1)(mainly for A/B compartments and TADs)*\n",
        "The advantage of UCSC session is that other signal tracks(e.g. histone modifications) could also be loaded at the same time together with A/B compartments and TADs."
      ],
      "metadata": {}
    },
    {
      "cell_type": "markdown",
      "source": [
        "### *[3D Genome Browser](http://promoter.bx.psu.edu/hi-c/)*\n",
        "<!--![3D Genome Browser example](http://promoter.bx.psu.edu/hi-c/img/capture-HiC.jpg)-->\n",
        "<img src=\"http://promoter.bx.psu.edu/hi-c/img/capture-HiC.jpg\" width=\"800\" height=\"400\"/>\n"
      ],
      "metadata": {}
    },
    {
      "cell_type": "markdown",
      "source": [
        "### *[WashU Epigenome Browser](https://epigenomegateway.wustl.edu/)*\n",
        "<!--![WashU Epigenome Browser example](https://portal.biohpc.swmed.edu/media/filer_public_thumbnails/filer_public/78/6d/786d31a1-bb99-49a3-ad1f-635244519929/7epi_result.png__800x378_q85_crop_subsampling-2_upscale.png)-->\n",
        "\n<img src=\"https://portal.biohpc.swmed.edu/media/filer_public_thumbnails/filer_public/78/6d/786d31a1-bb99-49a3-ad1f-635244519929/7epi_result.png__800x378_q85_crop_subsampling-2_upscale.png\" width=\"800\" height=\"400\"/>"
      ],
      "metadata": {}
    }
  ],
  "metadata": {
    "kernel_info": {
      "name": "python2"
    },
    "language_info": {
      "mimetype": "text/x-python",
      "nbconvert_exporter": "python",
      "name": "python",
      "pygments_lexer": "ipython2",
      "version": "2.7.13",
      "file_extension": ".py",
      "codemirror_mode": {
        "version": 2,
        "name": "ipython"
      }
    },
    "kernelspec": {
      "name": "python2",
      "language": "python",
      "display_name": "Python 2"
    },
    "nteract": {
      "version": "0.11.7"
    }
  },
  "nbformat": 4,
  "nbformat_minor": 4
}